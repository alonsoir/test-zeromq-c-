{
 "cells": [
  {
   "metadata": {},
   "cell_type": "code",
   "outputs": [],
   "execution_count": null,
   "source": "",
   "id": "fd43506ae8d84423"
  }
 ],
 "metadata": {},
 "nbformat": 4,
 "nbformat_minor": 5
}
